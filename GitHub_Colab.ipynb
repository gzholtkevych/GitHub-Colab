{
  "nbformat": 4,
  "nbformat_minor": 0,
  "metadata": {
    "colab": {
      "provenance": [],
      "toc_visible": true,
      "authorship_tag": "ABX9TyOYFsfq8hxfDurNjOou+AZZ",
      "include_colab_link": true
    },
    "kernelspec": {
      "name": "python3",
      "display_name": "Python 3"
    },
    "language_info": {
      "name": "python"
    }
  },
  "cells": [
    {
      "cell_type": "markdown",
      "metadata": {
        "id": "view-in-github",
        "colab_type": "text"
      },
      "source": [
        "<a href=\"https://colab.research.google.com/github/gzholtkevych/GitHub-Colab/blob/main/GitHub_Colab.ipynb\" target=\"_parent\"><img src=\"https://colab.research.google.com/assets/colab-badge.svg\" alt=\"Open In Colab\"/></a>"
      ]
    },
    {
      "cell_type": "code",
      "execution_count": 1,
      "metadata": {
        "id": "qqEmYDGqMwbN",
        "outputId": "dc6ef916-000e-4153-d7ad-ad28808327c7",
        "colab": {
          "base_uri": "https://localhost:8080/"
        }
      },
      "outputs": [
        {
          "output_type": "stream",
          "name": "stdout",
          "text": [
            "Cloning into 'GitHub-Colab'...\n",
            "remote: Enumerating objects: 12, done.\u001b[K\n",
            "remote: Counting objects: 100% (12/12), done.\u001b[K\n",
            "remote: Compressing objects: 100% (8/8), done.\u001b[K\n",
            "remote: Total 12 (delta 0), reused 0 (delta 0), pack-reused 0\u001b[K\n",
            "Receiving objects: 100% (12/12), done.\n"
          ]
        }
      ],
      "source": [
        "import os\n",
        "\n",
        "git_url = \"https://github.com/gzholtkevych/GitHub-Colab.git\"  # Replace with actual URL\n",
        "repo_name = \"test\"  # Extract the repository name from the URL (optional)\n",
        "\n",
        "!git clone {git_url}"
      ]
    },
    {
      "cell_type": "code",
      "source": [
        "from repo_name import your_module  # Replace with actual module name"
      ],
      "metadata": {
        "id": "LrvDUk_3Txg0"
      },
      "execution_count": null,
      "outputs": []
    }
  ]
}