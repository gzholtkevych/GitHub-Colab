{
  "nbformat": 4,
  "nbformat_minor": 0,
  "metadata": {
    "colab": {
      "provenance": [],
      "toc_visible": true,
      "authorship_tag": "ABX9TyMSHhOsdLKnUlRUFmCbt0zb",
      "include_colab_link": true
    },
    "kernelspec": {
      "name": "python3",
      "display_name": "Python 3"
    },
    "language_info": {
      "name": "python"
    }
  },
  "cells": [
    {
      "cell_type": "markdown",
      "metadata": {
        "id": "view-in-github",
        "colab_type": "text"
      },
      "source": [
        "<a href=\"https://colab.research.google.com/github/gzholtkevych/GitHub-Colab/blob/main/GitHub_Colab.ipynb\" target=\"_parent\"><img src=\"https://colab.research.google.com/assets/colab-badge.svg\" alt=\"Open In Colab\"/></a>"
      ]
    },
    {
      "cell_type": "code",
      "execution_count": 1,
      "metadata": {
        "id": "qqEmYDGqMwbN",
        "outputId": "9815918a-01b0-4cdb-8329-d1e1c72a52ff",
        "colab": {
          "base_uri": "https://localhost:8080/"
        }
      },
      "outputs": [
        {
          "output_type": "stream",
          "name": "stdout",
          "text": [
            "fatal: destination path 'GitHub-Colab' already exists and is not an empty directory.\n"
          ]
        }
      ],
      "source": [
        "import os\n",
        "\n",
        "git_url = \"https://github.com/gzholtkevych/GitHub-Colab.git\"  # Replace with actual URL\n",
        "repo_name = \"GitHub-Colab\"  # Extract the repository name from the URL (optional)\n",
        "\n",
        "!git clone {git_url}"
      ]
    },
    {
      "cell_type": "code",
      "source": [
        "from repo_name import \"test\"  # Replace with actual module name\n",
        "\n",
        "test()"
      ],
      "metadata": {
        "id": "LrvDUk_3Txg0",
        "outputId": "c32d153d-5914-4445-8889-c95885a89af9",
        "colab": {
          "base_uri": "https://localhost:8080/",
          "height": 111
        }
      },
      "execution_count": 2,
      "outputs": [
        {
          "output_type": "error",
          "ename": "SyntaxError",
          "evalue": "invalid syntax (<ipython-input-2-c6158a74d961>, line 1)",
          "traceback": [
            "\u001b[0;36m  File \u001b[0;32m\"<ipython-input-2-c6158a74d961>\"\u001b[0;36m, line \u001b[0;32m1\u001b[0m\n\u001b[0;31m    from repo_name import \"test\"  # Replace with actual module name\u001b[0m\n\u001b[0m                          ^\u001b[0m\n\u001b[0;31mSyntaxError\u001b[0m\u001b[0;31m:\u001b[0m invalid syntax\n"
          ]
        }
      ]
    }
  ]
}